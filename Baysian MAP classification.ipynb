{
 "cells": [
  {
   "cell_type": "code",
   "execution_count": 62,
   "metadata": {
    "collapsed": false
   },
   "outputs": [],
   "source": [
    "\"\"\"Import proper modueles\"\"\"\n",
    "%matplotlib inline\n",
    "from urllib.request import urlopen\n",
    "import numpy as np\n",
    "import csv\n",
    "import pandas as pd\n",
    "from scipy.stats import multivariate_normal\n",
    "from numpy.linalg import inv\n",
    "from sklearn.metrics.pairwise import rbf_kernel"
   ]
  },
  {
   "cell_type": "code",
   "execution_count": 109,
   "metadata": {
    "collapsed": false
   },
   "outputs": [
    {
     "name": "stdout",
     "output_type": "stream",
     "text": [
      "     Survived  Pclass  Sex   Age  SibSp  Parch      Fare  Embarked\n",
      "0           1       3    1  22.0      2      1    7.2500       1.0\n",
      "1           2       1    2  38.0      2      1   71.2833       2.0\n",
      "2           2       3    2  26.0      1      1    7.9250       1.0\n",
      "3           2       1    2  35.0      2      1   53.1000       1.0\n",
      "4           1       3    1  35.0      1      1    8.0500       1.0\n",
      "5           1       3    1  -1.0      1      1    8.4583       3.0\n",
      "6           1       1    1  54.0      1      1   51.8625       1.0\n",
      "7           1       3    1   2.0      4      2   21.0750       1.0\n",
      "8           2       3    2  27.0      1      3   11.1333       1.0\n",
      "9           2       2    2  14.0      2      1   30.0708       2.0\n",
      "10          2       3    2   4.0      2      2   16.7000       1.0\n",
      "11          2       1    2  58.0      1      1   26.5500       1.0\n",
      "12          1       3    1  20.0      1      1    8.0500       1.0\n",
      "13          1       3    1  39.0      2      6   31.2750       1.0\n",
      "14          1       3    2  14.0      1      1    7.8542       1.0\n",
      "15          2       2    2  55.0      1      1   16.0000       1.0\n",
      "16          1       3    1   2.0      5      2   29.1250       3.0\n",
      "17          2       2    1  -1.0      1      1   13.0000       1.0\n",
      "18          1       3    2  31.0      2      1   18.0000       1.0\n",
      "19          2       3    2  -1.0      1      1    7.2250       2.0\n",
      "20          1       2    1  35.0      1      1   26.0000       1.0\n",
      "21          2       2    1  34.0      1      1   13.0000       1.0\n",
      "22          2       3    2  15.0      1      1    8.0292       3.0\n",
      "23          2       1    1  28.0      1      1   35.5000       1.0\n",
      "24          1       3    2   8.0      4      2   21.0750       1.0\n",
      "25          2       3    2  38.0      2      6   31.3875       1.0\n",
      "26          1       3    1  -1.0      1      1    7.2250       2.0\n",
      "27          1       1    1  19.0      4      3  263.0000       1.0\n",
      "28          2       3    2  -1.0      1      1    7.8792       3.0\n",
      "29          1       3    1  -1.0      1      1    7.8958       1.0\n",
      "..        ...     ...  ...   ...    ...    ...       ...       ...\n",
      "861         1       2    1  21.0      2      1   11.5000       1.0\n",
      "862         2       1    2  48.0      1      1   25.9292       1.0\n",
      "863         1       3    2  -1.0      9      3   69.5500       1.0\n",
      "864         1       2    1  24.0      1      1   13.0000       1.0\n",
      "865         2       2    2  42.0      1      1   13.0000       1.0\n",
      "866         2       2    2  27.0      2      1   13.8583       2.0\n",
      "867         1       1    1  31.0      1      1   50.4958       1.0\n",
      "868         1       3    1  -1.0      1      1    9.5000       1.0\n",
      "869         2       3    1   4.0      2      2   11.1333       1.0\n",
      "870         1       3    1  26.0      1      1    7.8958       1.0\n",
      "871         2       1    2  47.0      2      2   52.5542       1.0\n",
      "872         1       1    1  33.0      1      1    5.0000       1.0\n",
      "873         1       3    1  47.0      1      1    9.0000       1.0\n",
      "874         2       2    2  28.0      2      1   24.0000       2.0\n",
      "875         2       3    2  15.0      1      1    7.2250       2.0\n",
      "876         1       3    1  20.0      1      1    9.8458       1.0\n",
      "877         1       3    1  19.0      1      1    7.8958       1.0\n",
      "878         1       3    1  -1.0      1      1    7.8958       1.0\n",
      "879         2       1    2  56.0      1      2   83.1583       2.0\n",
      "880         2       2    2  25.0      1      2   26.0000       1.0\n",
      "881         1       3    1  33.0      1      1    7.8958       1.0\n",
      "882         1       3    2  22.0      1      1   10.5167       1.0\n",
      "883         1       2    1  28.0      1      1   10.5000       1.0\n",
      "884         1       3    1  25.0      1      1    7.0500       1.0\n",
      "885         1       3    2  39.0      1      6   29.1250       3.0\n",
      "886         1       2    1  27.0      1      1   13.0000       1.0\n",
      "887         2       1    2  19.0      1      1   30.0000       1.0\n",
      "888         1       3    2  -1.0      2      3   23.4500       1.0\n",
      "889         2       1    1  26.0      1      1   30.0000       2.0\n",
      "890         1       3    1  32.0      1      1    7.7500       3.0\n",
      "\n",
      "[891 rows x 8 columns]\n",
      "7\n"
     ]
    }
   ],
   "source": [
    "\"\"\"Edit the data accordingly\"\"\"\n",
    "data = pd.read_csv(\"edit_train.csv\")\n",
    "\n",
    "# \"\"\"Replace sex with binary variables 1 and 2\"\"\"\n",
    "data['Sex'] = data['Sex'].replace('male', 1)\n",
    "data['Sex'] = data['Sex'].replace('female', 2)\n",
    "\n",
    "\n",
    "\"\"\"Replace S, C, Q loacation variables of embarkement with 1,2,3 respecitley\"\"\"\n",
    "data['Embarked'] = data['Embarked'].replace('S', 1)\n",
    "data['Embarked'] = data['Embarked'].replace('C', 2)\n",
    "data['Embarked'] = data['Embarked'].replace('Q', 3)\n",
    "data['Embarked'] = data['Embarked'].replace('nan', -1)\n",
    "\n",
    "\n",
    "\n",
    "\"\"\"Survived modify zeros to 1\"\"\"\n",
    "data['Survived'] += 1\n",
    "\n",
    "\n",
    "\n",
    "\"\"\"SibSp modify\"\"\"\n",
    "data['SibSp'] += 1\n",
    "\n",
    "\n",
    "\"\"\"Parch modify\"\"\"\n",
    "data['Parch'] += 1\n",
    "\n",
    "#data['Parch'].replace(0, 1)\n",
    "#data['Parch'] = data['Parch'].replace(1, 2)\n",
    "#data['Parch'] = data['Parch'].replace(0, 1)\n",
    "\n",
    "\n",
    "\n",
    "# \"\"\"Replace empty ages with -1?\"\"\"\n",
    "data['Age'] = data['Age'].replace('NaN', -1)\n",
    "print(data)\n",
    "print(max(data['Parch']))\n"
   ]
  },
  {
   "cell_type": "code",
   "execution_count": 114,
   "metadata": {
    "collapsed": false
   },
   "outputs": [
    {
     "name": "stdout",
     "output_type": "stream",
     "text": [
      "[[  1.       3.       1.     ...,   1.       7.25     1.    ]\n",
      " [  2.       1.       2.     ...,   1.      71.2833   2.    ]\n",
      " [  2.       3.       2.     ...,   1.       7.925    1.    ]\n",
      " ..., \n",
      " [  1.       3.       2.     ...,   3.      23.45     1.    ]\n",
      " [  2.       1.       1.     ...,   1.      30.       2.    ]\n",
      " [  1.       3.       1.     ...,   1.       7.75     3.    ]]\n"
     ]
    }
   ],
   "source": [
    "data = pd.DataFrame.as_matrix(data)\n",
    "print(data)"
   ]
  },
  {
   "cell_type": "code",
   "execution_count": 118,
   "metadata": {
    "collapsed": false
   },
   "outputs": [
    {
     "ename": "LinAlgError",
     "evalue": "Singular matrix",
     "output_type": "error",
     "traceback": [
      "\u001b[0;31m---------------------------------------------------------------------------\u001b[0m",
      "\u001b[0;31mLinAlgError\u001b[0m                               Traceback (most recent call last)",
      "\u001b[0;32m<ipython-input-118-6a98dee3ef34>\u001b[0m in \u001b[0;36m<module>\u001b[0;34m()\u001b[0m\n\u001b[1;32m     45\u001b[0m \u001b[0;34m\u001b[0m\u001b[0m\n\u001b[1;32m     46\u001b[0m \u001b[0;34m\u001b[0m\u001b[0m\n\u001b[0;32m---> 47\u001b[0;31m \u001b[0mNewton_Raphson\u001b[0m\u001b[0;34m(\u001b[0m\u001b[0mdata\u001b[0m\u001b[0;34m,\u001b[0m \u001b[0;36m3\u001b[0m\u001b[0;34m)\u001b[0m\u001b[0;34m\u001b[0m\u001b[0m\n\u001b[0m",
      "\u001b[0;32m<ipython-input-118-6a98dee3ef34>\u001b[0m in \u001b[0;36mNewton_Raphson\u001b[0;34m(data, itr)\u001b[0m\n\u001b[1;32m      7\u001b[0m     \u001b[0mC\u001b[0m \u001b[0;34m=\u001b[0m \u001b[0mrbf_kernel\u001b[0m\u001b[0;34m(\u001b[0m\u001b[0mdata\u001b[0m\u001b[0;34m)\u001b[0m\u001b[0;31m#[:,1:])\u001b[0m\u001b[0;34m\u001b[0m\u001b[0m\n\u001b[1;32m      8\u001b[0m \u001b[0;34m\u001b[0m\u001b[0m\n\u001b[0;32m----> 9\u001b[0;31m     \u001b[0mprint\u001b[0m\u001b[0;34m(\u001b[0m\u001b[0minv\u001b[0m\u001b[0;34m(\u001b[0m\u001b[0mC\u001b[0m\u001b[0;34m)\u001b[0m\u001b[0;34m)\u001b[0m\u001b[0;34m\u001b[0m\u001b[0m\n\u001b[0m\u001b[1;32m     10\u001b[0m \u001b[0;34m\u001b[0m\u001b[0m\n\u001b[1;32m     11\u001b[0m \u001b[0;34m\u001b[0m\u001b[0m\n",
      "\u001b[0;32m/Applications/anaconda/lib/python3.5/site-packages/numpy/linalg/linalg.py\u001b[0m in \u001b[0;36minv\u001b[0;34m(a)\u001b[0m\n\u001b[1;32m    524\u001b[0m     \u001b[0msignature\u001b[0m \u001b[0;34m=\u001b[0m \u001b[0;34m'D->D'\u001b[0m \u001b[0;32mif\u001b[0m \u001b[0misComplexType\u001b[0m\u001b[0;34m(\u001b[0m\u001b[0mt\u001b[0m\u001b[0;34m)\u001b[0m \u001b[0;32melse\u001b[0m \u001b[0;34m'd->d'\u001b[0m\u001b[0;34m\u001b[0m\u001b[0m\n\u001b[1;32m    525\u001b[0m     \u001b[0mextobj\u001b[0m \u001b[0;34m=\u001b[0m \u001b[0mget_linalg_error_extobj\u001b[0m\u001b[0;34m(\u001b[0m\u001b[0m_raise_linalgerror_singular\u001b[0m\u001b[0;34m)\u001b[0m\u001b[0;34m\u001b[0m\u001b[0m\n\u001b[0;32m--> 526\u001b[0;31m     \u001b[0mainv\u001b[0m \u001b[0;34m=\u001b[0m \u001b[0m_umath_linalg\u001b[0m\u001b[0;34m.\u001b[0m\u001b[0minv\u001b[0m\u001b[0;34m(\u001b[0m\u001b[0ma\u001b[0m\u001b[0;34m,\u001b[0m \u001b[0msignature\u001b[0m\u001b[0;34m=\u001b[0m\u001b[0msignature\u001b[0m\u001b[0;34m,\u001b[0m \u001b[0mextobj\u001b[0m\u001b[0;34m=\u001b[0m\u001b[0mextobj\u001b[0m\u001b[0;34m)\u001b[0m\u001b[0;34m\u001b[0m\u001b[0m\n\u001b[0m\u001b[1;32m    527\u001b[0m     \u001b[0;32mreturn\u001b[0m \u001b[0mwrap\u001b[0m\u001b[0;34m(\u001b[0m\u001b[0mainv\u001b[0m\u001b[0;34m.\u001b[0m\u001b[0mastype\u001b[0m\u001b[0;34m(\u001b[0m\u001b[0mresult_t\u001b[0m\u001b[0;34m,\u001b[0m \u001b[0mcopy\u001b[0m\u001b[0;34m=\u001b[0m\u001b[0;32mFalse\u001b[0m\u001b[0;34m)\u001b[0m\u001b[0;34m)\u001b[0m\u001b[0;34m\u001b[0m\u001b[0m\n\u001b[1;32m    528\u001b[0m \u001b[0;34m\u001b[0m\u001b[0m\n",
      "\u001b[0;32m/Applications/anaconda/lib/python3.5/site-packages/numpy/linalg/linalg.py\u001b[0m in \u001b[0;36m_raise_linalgerror_singular\u001b[0;34m(err, flag)\u001b[0m\n\u001b[1;32m     88\u001b[0m \u001b[0;34m\u001b[0m\u001b[0m\n\u001b[1;32m     89\u001b[0m \u001b[0;32mdef\u001b[0m \u001b[0m_raise_linalgerror_singular\u001b[0m\u001b[0;34m(\u001b[0m\u001b[0merr\u001b[0m\u001b[0;34m,\u001b[0m \u001b[0mflag\u001b[0m\u001b[0;34m)\u001b[0m\u001b[0;34m:\u001b[0m\u001b[0;34m\u001b[0m\u001b[0m\n\u001b[0;32m---> 90\u001b[0;31m     \u001b[0;32mraise\u001b[0m \u001b[0mLinAlgError\u001b[0m\u001b[0;34m(\u001b[0m\u001b[0;34m\"Singular matrix\"\u001b[0m\u001b[0;34m)\u001b[0m\u001b[0;34m\u001b[0m\u001b[0m\n\u001b[0m\u001b[1;32m     91\u001b[0m \u001b[0;34m\u001b[0m\u001b[0m\n\u001b[1;32m     92\u001b[0m \u001b[0;32mdef\u001b[0m \u001b[0m_raise_linalgerror_nonposdef\u001b[0m\u001b[0;34m(\u001b[0m\u001b[0merr\u001b[0m\u001b[0;34m,\u001b[0m \u001b[0mflag\u001b[0m\u001b[0;34m)\u001b[0m\u001b[0;34m:\u001b[0m\u001b[0;34m\u001b[0m\u001b[0m\n",
      "\u001b[0;31mLinAlgError\u001b[0m: Singular matrix"
     ]
    }
   ],
   "source": [
    "def Newton_Raphson(data, itr):\n",
    "    count = 0\n",
    "    \n",
    "    n = len(data)\n",
    "    \n",
    "    \"\"\"utilize rbf_kernel covariance function\"\"\"\n",
    "    C = rbf_kernel(data)#[:,1:])\n",
    "    \n",
    "    print(inv(C))\n",
    "        \n",
    "    \n",
    "    \"\"\"initilize f with 1\"\"\"\n",
    "    f_n = np.ones((len(data),1))\n",
    "    \n",
    "    t_n = data[:,0]\n",
    "    \n",
    "    \n",
    "    while count < itr:\n",
    "        first_derivative = np.zeros(np.shape(f_n))\n",
    "        \n",
    "        second_derivative = np.identity(n)\n",
    "        \n",
    "        q_n = np.zeros(np.shape(f_n))\n",
    "        \n",
    "        \n",
    "        for index in range(n):\n",
    "            \"\"\"first derivative calc\"\"\"\n",
    "            p_n = 1/(1+np.exp(-f_n[index]))\n",
    "            \n",
    "            q_n[index] = t_n[index]-p_n\n",
    "            \n",
    "            \n",
    "            \"\"\"second derivive calc\"\"\"\n",
    "            \n",
    "            second_derivative[index][index] *= p_n*(1-p_n)\n",
    "            \n",
    "        first_derivative += q_n-np.dot(inv(C),f_n)\n",
    "        \n",
    "        second_derivative -= inv(C)\n",
    "        \n",
    "        f_n = f_n-np.dot(inv(second_derivative),first_derivative)\n",
    "        \n",
    "        count +=1\n",
    "    return f_n\n",
    "\n",
    "\n",
    "Newton_Raphson(data, 3)"
   ]
  },
  {
   "cell_type": "code",
   "execution_count": 116,
   "metadata": {
    "collapsed": false
   },
   "outputs": [
    {
     "name": "stdout",
     "output_type": "stream",
     "text": [
      "[[ 1.  3.  1. ...,  2.  1.  1.]\n",
      " [ 2.  1.  2. ...,  2.  1.  2.]\n",
      " [ 2.  3.  2. ...,  1.  1.  1.]\n",
      " ..., \n",
      " [ 1.  3.  2. ...,  2.  3.  1.]\n",
      " [ 2.  1.  1. ...,  1.  1.  2.]\n",
      " [ 1.  3.  1. ...,  1.  1.  3.]]\n"
     ]
    }
   ],
   "source": [
    "sheet_1 = urlopen('http://colindawson.net/data/S1train.csv')\n",
    "\n",
    "S1_train = np.genfromtxt(sheet_1, delimiter=\",\", skip_header = 1)\n",
    "\n",
    "S1_train[S1_train == -1]=0\n",
    "\n",
    "\n",
    "new_data = np.delete(data, 6 , axis = 1)\n",
    "\n",
    "print(new_data)"
   ]
  },
  {
   "cell_type": "code",
   "execution_count": 117,
   "metadata": {
    "collapsed": false
   },
   "outputs": [
    {
     "ename": "LinAlgError",
     "evalue": "Singular matrix",
     "output_type": "error",
     "traceback": [
      "\u001b[0;31m---------------------------------------------------------------------------\u001b[0m",
      "\u001b[0;31mLinAlgError\u001b[0m                               Traceback (most recent call last)",
      "\u001b[0;32m<ipython-input-117-f9e35e965247>\u001b[0m in \u001b[0;36m<module>\u001b[0;34m()\u001b[0m\n\u001b[0;32m----> 1\u001b[0;31m \u001b[0mNewton_Raphson\u001b[0m\u001b[0;34m(\u001b[0m\u001b[0mnew_data\u001b[0m\u001b[0;34m,\u001b[0m \u001b[0;36m1\u001b[0m\u001b[0;34m)\u001b[0m\u001b[0;34m\u001b[0m\u001b[0m\n\u001b[0m",
      "\u001b[0;32m<ipython-input-108-6a98dee3ef34>\u001b[0m in \u001b[0;36mNewton_Raphson\u001b[0;34m(data, itr)\u001b[0m\n\u001b[1;32m      7\u001b[0m     \u001b[0mC\u001b[0m \u001b[0;34m=\u001b[0m \u001b[0mrbf_kernel\u001b[0m\u001b[0;34m(\u001b[0m\u001b[0mdata\u001b[0m\u001b[0;34m)\u001b[0m\u001b[0;31m#[:,1:])\u001b[0m\u001b[0;34m\u001b[0m\u001b[0m\n\u001b[1;32m      8\u001b[0m \u001b[0;34m\u001b[0m\u001b[0m\n\u001b[0;32m----> 9\u001b[0;31m     \u001b[0mprint\u001b[0m\u001b[0;34m(\u001b[0m\u001b[0minv\u001b[0m\u001b[0;34m(\u001b[0m\u001b[0mC\u001b[0m\u001b[0;34m)\u001b[0m\u001b[0;34m)\u001b[0m\u001b[0;34m\u001b[0m\u001b[0m\n\u001b[0m\u001b[1;32m     10\u001b[0m \u001b[0;34m\u001b[0m\u001b[0m\n\u001b[1;32m     11\u001b[0m \u001b[0;34m\u001b[0m\u001b[0m\n",
      "\u001b[0;32m/Applications/anaconda/lib/python3.5/site-packages/numpy/linalg/linalg.py\u001b[0m in \u001b[0;36minv\u001b[0;34m(a)\u001b[0m\n\u001b[1;32m    524\u001b[0m     \u001b[0msignature\u001b[0m \u001b[0;34m=\u001b[0m \u001b[0;34m'D->D'\u001b[0m \u001b[0;32mif\u001b[0m \u001b[0misComplexType\u001b[0m\u001b[0;34m(\u001b[0m\u001b[0mt\u001b[0m\u001b[0;34m)\u001b[0m \u001b[0;32melse\u001b[0m \u001b[0;34m'd->d'\u001b[0m\u001b[0;34m\u001b[0m\u001b[0m\n\u001b[1;32m    525\u001b[0m     \u001b[0mextobj\u001b[0m \u001b[0;34m=\u001b[0m \u001b[0mget_linalg_error_extobj\u001b[0m\u001b[0;34m(\u001b[0m\u001b[0m_raise_linalgerror_singular\u001b[0m\u001b[0;34m)\u001b[0m\u001b[0;34m\u001b[0m\u001b[0m\n\u001b[0;32m--> 526\u001b[0;31m     \u001b[0mainv\u001b[0m \u001b[0;34m=\u001b[0m \u001b[0m_umath_linalg\u001b[0m\u001b[0;34m.\u001b[0m\u001b[0minv\u001b[0m\u001b[0;34m(\u001b[0m\u001b[0ma\u001b[0m\u001b[0;34m,\u001b[0m \u001b[0msignature\u001b[0m\u001b[0;34m=\u001b[0m\u001b[0msignature\u001b[0m\u001b[0;34m,\u001b[0m \u001b[0mextobj\u001b[0m\u001b[0;34m=\u001b[0m\u001b[0mextobj\u001b[0m\u001b[0;34m)\u001b[0m\u001b[0;34m\u001b[0m\u001b[0m\n\u001b[0m\u001b[1;32m    527\u001b[0m     \u001b[0;32mreturn\u001b[0m \u001b[0mwrap\u001b[0m\u001b[0;34m(\u001b[0m\u001b[0mainv\u001b[0m\u001b[0;34m.\u001b[0m\u001b[0mastype\u001b[0m\u001b[0;34m(\u001b[0m\u001b[0mresult_t\u001b[0m\u001b[0;34m,\u001b[0m \u001b[0mcopy\u001b[0m\u001b[0;34m=\u001b[0m\u001b[0;32mFalse\u001b[0m\u001b[0;34m)\u001b[0m\u001b[0;34m)\u001b[0m\u001b[0;34m\u001b[0m\u001b[0m\n\u001b[1;32m    528\u001b[0m \u001b[0;34m\u001b[0m\u001b[0m\n",
      "\u001b[0;32m/Applications/anaconda/lib/python3.5/site-packages/numpy/linalg/linalg.py\u001b[0m in \u001b[0;36m_raise_linalgerror_singular\u001b[0;34m(err, flag)\u001b[0m\n\u001b[1;32m     88\u001b[0m \u001b[0;34m\u001b[0m\u001b[0m\n\u001b[1;32m     89\u001b[0m \u001b[0;32mdef\u001b[0m \u001b[0m_raise_linalgerror_singular\u001b[0m\u001b[0;34m(\u001b[0m\u001b[0merr\u001b[0m\u001b[0;34m,\u001b[0m \u001b[0mflag\u001b[0m\u001b[0;34m)\u001b[0m\u001b[0;34m:\u001b[0m\u001b[0;34m\u001b[0m\u001b[0m\n\u001b[0;32m---> 90\u001b[0;31m     \u001b[0;32mraise\u001b[0m \u001b[0mLinAlgError\u001b[0m\u001b[0;34m(\u001b[0m\u001b[0;34m\"Singular matrix\"\u001b[0m\u001b[0;34m)\u001b[0m\u001b[0;34m\u001b[0m\u001b[0m\n\u001b[0m\u001b[1;32m     91\u001b[0m \u001b[0;34m\u001b[0m\u001b[0m\n\u001b[1;32m     92\u001b[0m \u001b[0;32mdef\u001b[0m \u001b[0m_raise_linalgerror_nonposdef\u001b[0m\u001b[0;34m(\u001b[0m\u001b[0merr\u001b[0m\u001b[0;34m,\u001b[0m \u001b[0mflag\u001b[0m\u001b[0;34m)\u001b[0m\u001b[0;34m:\u001b[0m\u001b[0;34m\u001b[0m\u001b[0m\n",
      "\u001b[0;31mLinAlgError\u001b[0m: Singular matrix"
     ]
    }
   ],
   "source": [
    "Newton_Raphson(new_data, 1) "
   ]
  },
  {
   "cell_type": "code",
   "execution_count": null,
   "metadata": {
    "collapsed": false
   },
   "outputs": [],
   "source": []
  },
  {
   "cell_type": "code",
   "execution_count": null,
   "metadata": {
    "collapsed": true
   },
   "outputs": [],
   "source": []
  }
 ],
 "metadata": {
  "anaconda-cloud": {},
  "kernelspec": {
   "display_name": "Python [default]",
   "language": "python",
   "name": "python3"
  },
  "language_info": {
   "codemirror_mode": {
    "name": "ipython",
    "version": 3
   },
   "file_extension": ".py",
   "mimetype": "text/x-python",
   "name": "python",
   "nbconvert_exporter": "python",
   "pygments_lexer": "ipython3",
   "version": "3.5.2"
  }
 },
 "nbformat": 4,
 "nbformat_minor": 1
}
